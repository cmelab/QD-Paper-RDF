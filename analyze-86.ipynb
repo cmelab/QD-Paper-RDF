 "cells": [
  {
   "cell_type": "code",
   "execution_count": null,
   "metadata": {},
   "outputs": [],
   "source": [
    "import matplotlib.pyplot as plt\n",
    "from skimage.exposure import rescale_intensity\n",
    "from skimage import io, filters, color, measure\n",
    "from skimage.feature import peak_local_max\n",
    "from scipy import ndimage \n",
    "import numpy as np\n",
    "import xlrd\n",
    "import freud.box\n",
    "from freud import box, density\n",
    "from scipy import stats\n",
    "import os\n",
    "%matplotlib inline\n",
    "\n",
    "def get_dots2(file,microns=2,compare=False,spacing=5,size=2):\n",
    "    image = color.rgb2gray(io.imread(file))\n",
    "    i1 = filters.gaussian(image,sigma=.7)\n",
    "    i1 = ndimage.maximum_filter(i1,size=size,mode='constant')\n",
    "    coordinates = peak_local_max(i1, min_distance=spacing,indices=False)\n",
    "    if compare:\n",
    "        io.imshow(image -coordinates)\n",
    "    label_img = measure.label(coordinates)\n",
    "    centroids = []\n",
    "    for region in measure.regionprops(label_img):\n",
    "        centroids.append(region.centroid)\n",
    "    scaled = microns*np.asarray(centroids)/image.shape - [microns/2,microns/2]\n",
    "    return np.append(scaled,np.zeros((len(scaled),1)),axis=1)\n",
    "\n",
    "def plot_rdf(dots,L,plot=True):\n",
    "    box = freud.box.Box(L,L,is2D=True)\n",
    "    box.periodic=[True,True,False]\n",
    "    rdf = freud.density.RDF(20,.49,normalize=True)\n",
    "    rdf.compute(system=(box,dots),reset=True)\n",
    "    if plot:\n",
    "        plt.scatter(rdf.bin_centers, rdf.rdf)\n",
    "        plt.xlabel(\"r (μm)\")\n",
    "        plt.ylabel(\"<g(r)>\")\n",
    "        plt.show()\n",
    "    return rdf.bin_centers, rdf.rdf"
   ]
  },
  {
   "cell_type": "code",
   "execution_count": null,
   "metadata": {},
   "outputs": [],
   "source": [
    "rdfs = []\n",
    "R = []"
   ]
  },
  {
   "cell_type": "code",
   "execution_count": null,
   "metadata": {},
   "outputs": [],
   "source": [
    "L=5\n",
    "dots=get_dots2(\"86/5a.tif\",compare=True,microns=L, spacing=3,size=20)\n",
    "b=1/np.sqrt(len(dots)/(L*1000*1000*L))\n",
    "print(b)\n",
    "R.append(b)"
   ]
  },
  {
   "cell_type": "code",
   "execution_count": null,
   "metadata": {},
   "outputs": [],
   "source": [
    "rdfs.append(plot_rdf(dots,L,plot=True)[1])\n"
   ]
  },
  {
   "cell_type": "code",
   "execution_count": null,
   "metadata": {},
   "outputs": [],
   "source": [
    "L=2\n",
    "for i in \"abcdefghijklm\":\n",
    "    dots=get_dots2(\"86/2\"+i+\".tif\",compare=False, microns =L,size=20, spacing=20)\n",
    "    rdfs.append(plot_rdf(dots,L,plot=False)[1])\n",
    "    b=1/np.sqrt(len(dots)/(L*1000*1000*L))\n",
    "    print(b)\n",
    "    R.append(b)"
   ]
  },
  {
   "cell_type": "code",
   "execution_count": null,
   "metadata": {},
   "outputs": [],
   "source": [
    "#sample\n",
    "dots=get_dots2(\"86/2d.tif\",compare=True, microns =L, spacing=20,size=20)"
   ]
  },
  {
   "cell_type": "code",
   "execution_count": null,
   "metadata": {},
   "outputs": [],
   "source": [
    "rdfs = np.asarray(rdfs)\n",
    "mean_count = np.mean(rdfs,axis=0)\n",
    "sem =  stats.sem(rdfs, axis=0, ddof=1)\n",
    "r,rdf = plot_rdf(dots,L,plot=False)\n",
    "plt.errorbar(1000*r/np.mean(R), mean_count, yerr=sem)\n",
    "#plt.xlabel(\"r (μm)\")\n",
    "plt.xlabel(\"r/<R>\")\n",
    "\n",
    "plt.ylabel(\"<g(r)>\")\n",
    "plt.savefig(\"M86.png\")\n",
    "np.savetxt(\"M86.csv\",(1000*r/np.mean(R),mean_count,sem),delimiter=',')\n",
    "plt.show()"
   ]
  },
  {
   "cell_type": "code",
   "execution_count": null,
   "metadata": {},
   "outputs": [],
   "source": [
    "dots=get_dots2(\"86/2j.tif\",compare=True, microns =L, spacing=15)\n"
   ]
  },
  {
   "cell_type": "code",
   "execution_count": null,
   "metadata": {},
   "outputs": [],
   "source": [
    "print(R)\n",
    "print(np.mean(R),np.std(R))"
   ]
  },
  {
   "cell_type": "code",
   "execution_count": null,
   "metadata": {},
   "outputs": [],
   "source": []
  }
 ],
 "metadata": {
  "kernelspec": {
   "display_name": "Python 3",
   "language": "python",
   "name": "python3"
  },
  "language_info": {
   "codemirror_mode": {
    "name": "ipython",
    "version": 3
   },
   "file_extension": ".py",
   "mimetype": "text/x-python",
   "name": "python",
   "nbconvert_exporter": "python",
   "pygments_lexer": "ipython3",
   "version": "3.8.5"
  }
 },
 "nbformat": 4,
 "nbformat_minor": 4
}
